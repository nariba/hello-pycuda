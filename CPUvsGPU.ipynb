{
  "nbformat": 4,
  "nbformat_minor": 0,
  "metadata": {
    "colab": {
      "name": "CPUvsGPU.ipynb",
      "provenance": [],
      "authorship_tag": "ABX9TyMNOtbF1rgSRUxdt3wlnLDY",
      "include_colab_link": true
    },
    "kernelspec": {
      "name": "python3",
      "display_name": "Python 3"
    },
    "accelerator": "GPU"
  },
  "cells": [
    {
      "cell_type": "markdown",
      "metadata": {
        "id": "view-in-github",
        "colab_type": "text"
      },
      "source": [
        "<a href=\"https://colab.research.google.com/github/nariba/hello-pycuda/blob/main/CPUvsGPU.ipynb\" target=\"_parent\"><img src=\"https://colab.research.google.com/assets/colab-badge.svg\" alt=\"Open In Colab\"/></a>"
      ]
    },
    {
      "cell_type": "code",
      "metadata": {
        "id": "yVPlbh49ldsA",
        "outputId": "fcc924c3-1ee2-44ac-d7f8-a68e854af214",
        "colab": {
          "base_uri": "https://localhost:8080/"
        }
      },
      "source": [
        "!pip3 install pycuda"
      ],
      "execution_count": 1,
      "outputs": [
        {
          "output_type": "stream",
          "text": [
            "Collecting pycuda\n",
            "\u001b[?25l  Downloading https://files.pythonhosted.org/packages/46/61/47d3235a4c13eec5a5f03594ddb268f4858734e02980afbcd806e6242fa5/pycuda-2020.1.tar.gz (1.6MB)\n",
            "\u001b[K     |████████████████████████████████| 1.6MB 13.2MB/s \n",
            "\u001b[?25hCollecting pytools>=2011.2\n",
            "\u001b[?25l  Downloading https://files.pythonhosted.org/packages/b7/30/c9362a282ef89106768cba9d884f4b2e4f5dc6881d0c19b478d2a710b82b/pytools-2020.4.3.tar.gz (62kB)\n",
            "\u001b[K     |████████████████████████████████| 71kB 9.9MB/s \n",
            "\u001b[?25hRequirement already satisfied: decorator>=3.2.0 in /usr/local/lib/python3.6/dist-packages (from pycuda) (4.4.2)\n",
            "Collecting appdirs>=1.4.0\n",
            "  Downloading https://files.pythonhosted.org/packages/3b/00/2344469e2084fb287c2e0b57b72910309874c3245463acd6cf5e3db69324/appdirs-1.4.4-py2.py3-none-any.whl\n",
            "Collecting mako\n",
            "\u001b[?25l  Downloading https://files.pythonhosted.org/packages/a6/37/0e706200d22172eb8fa17d68a7ae22dec7631a0a92266634fb518a88a5b2/Mako-1.1.3-py2.py3-none-any.whl (75kB)\n",
            "\u001b[K     |████████████████████████████████| 81kB 11.0MB/s \n",
            "\u001b[?25hRequirement already satisfied: six>=1.8.0 in /usr/local/lib/python3.6/dist-packages (from pytools>=2011.2->pycuda) (1.15.0)\n",
            "Requirement already satisfied: numpy>=1.6.0 in /usr/local/lib/python3.6/dist-packages (from pytools>=2011.2->pycuda) (1.18.5)\n",
            "Requirement already satisfied: dataclasses>=0.7 in /usr/local/lib/python3.6/dist-packages (from pytools>=2011.2->pycuda) (0.7)\n",
            "Requirement already satisfied: MarkupSafe>=0.9.2 in /usr/local/lib/python3.6/dist-packages (from mako->pycuda) (1.1.1)\n",
            "Building wheels for collected packages: pycuda, pytools\n",
            "  Building wheel for pycuda (setup.py) ... \u001b[?25l\u001b[?25hdone\n",
            "  Created wheel for pycuda: filename=pycuda-2020.1-cp36-cp36m-linux_x86_64.whl size=620887 sha256=d5cd7609af96cfd03a02a715a3fa42cd1f89ab83fb5a053a67bde61cda7e3528\n",
            "  Stored in directory: /root/.cache/pip/wheels/8f/78/d1/5bb826f81d9d490297a348d818ff3ee6dd6f2075b06dde6ea0\n",
            "  Building wheel for pytools (setup.py) ... \u001b[?25l\u001b[?25hdone\n",
            "  Created wheel for pytools: filename=pytools-2020.4.3-py2.py3-none-any.whl size=61374 sha256=dcc99f81f75e7941fd9e2b7a8bd17f00581c2567761b6d0de0a2c5dee32deaba\n",
            "  Stored in directory: /root/.cache/pip/wheels/af/c7/81/a22edb90b0b09a880468b2253bb1df8e9f503337ee15432c64\n",
            "Successfully built pycuda pytools\n",
            "Installing collected packages: appdirs, pytools, mako, pycuda\n",
            "Successfully installed appdirs-1.4.4 mako-1.1.3 pycuda-2020.1 pytools-2020.4.3\n"
          ],
          "name": "stdout"
        }
      ]
    },
    {
      "cell_type": "code",
      "metadata": {
        "id": "CTOmVMP4lg5I"
      },
      "source": [
        "import os"
      ],
      "execution_count": 2,
      "outputs": []
    },
    {
      "cell_type": "code",
      "metadata": {
        "id": "o0vCL4F-orRm"
      },
      "source": [
        "os.mkdir(\"cuda\")"
      ],
      "execution_count": 3,
      "outputs": []
    },
    {
      "cell_type": "code",
      "metadata": {
        "id": "qcdlVFDtovCm"
      },
      "source": [
        "import math\n",
        "import numpy\n",
        "import time\n",
        "import pycuda.gpuarray\n",
        "from pycuda.compiler import SourceModule"
      ],
      "execution_count": 4,
      "outputs": []
    },
    {
      "cell_type": "code",
      "metadata": {
        "id": "pGL6bS5PovU2"
      },
      "source": [
        "import pycuda.autoinit"
      ],
      "execution_count": 5,
      "outputs": []
    },
    {
      "cell_type": "code",
      "metadata": {
        "id": "NpWV7DRkovg-"
      },
      "source": [
        "cuda_file_path = os.path.abspath(\"./cuda\")"
      ],
      "execution_count": 6,
      "outputs": []
    },
    {
      "cell_type": "code",
      "metadata": {
        "id": "kN8sUc8covpW"
      },
      "source": [
        "module = SourceModule(\"\"\"\n",
        "#include \"kernel_functions_for_math_1d.cu\"\n",
        "\"\"\", include_dirs=[cuda_file_path])"
      ],
      "execution_count": 7,
      "outputs": []
    },
    {
      "cell_type": "code",
      "metadata": {
        "id": "n8YqCb-Jovtf"
      },
      "source": [
        "plus_one_kernel = module.get_function(\"plus_one_kernel\")"
      ],
      "execution_count": 8,
      "outputs": []
    },
    {
      "cell_type": "code",
      "metadata": {
        "id": "CyxNqkwRfMlE"
      },
      "source": [
        "num_components = numpy.int32(10)\n",
        "x = numpy.arange(num_components, dtype=numpy.int32)"
      ],
      "execution_count": 9,
      "outputs": []
    },
    {
      "cell_type": "code",
      "metadata": {
        "id": "kb84BuoRfUnx"
      },
      "source": [
        "x_gpu = pycuda.gpuarray.to_gpu(x)\n",
        "y_gpu = pycuda.gpuarray.zeros(num_components, dtype=numpy.int32)"
      ],
      "execution_count": 10,
      "outputs": []
    },
    {
      "cell_type": "code",
      "metadata": {
        "id": "8CsP4extfeXf"
      },
      "source": [
        "threads_per_block = (256, 1, 1)\n",
        "blocks_per_grid = (math.ceil(num_components / threads_per_block[0]), 1, 1)"
      ],
      "execution_count": 11,
      "outputs": []
    },
    {
      "cell_type": "code",
      "metadata": {
        "id": "idxQoPQqfoMc"
      },
      "source": [
        "plus_one_kernel(num_components, y_gpu, x_gpu, block=threads_per_block, grid=blocks_per_grid)"
      ],
      "execution_count": 12,
      "outputs": []
    },
    {
      "cell_type": "code",
      "metadata": {
        "id": "5tMFvOrNfw2X",
        "outputId": "13016f87-ae50-4adf-df47-92168a9e9730",
        "colab": {
          "base_uri": "https://localhost:8080/"
        }
      },
      "source": [
        "y_gpu.get()"
      ],
      "execution_count": 13,
      "outputs": [
        {
          "output_type": "execute_result",
          "data": {
            "text/plain": [
              "array([ 1,  2,  3,  4,  5,  6,  7,  8,  9, 10], dtype=int32)"
            ]
          },
          "metadata": {
            "tags": []
          },
          "execution_count": 13
        }
      ]
    },
    {
      "cell_type": "code",
      "metadata": {
        "id": "ihNGdrzkfzC0"
      },
      "source": [
        "# Measure CPU time\n",
        "time_start_cpu = time.time()\n",
        "x = x + 1\n",
        "time_end_cpu = time.time()"
      ],
      "execution_count": 14,
      "outputs": []
    },
    {
      "cell_type": "code",
      "metadata": {
        "id": "BLAY_g47jlq0",
        "outputId": "9ec7b250-bf29-40fe-ec40-18e1d830ce5d",
        "colab": {
          "base_uri": "https://localhost:8080/"
        }
      },
      "source": [
        "print(\"CPU calculation {0} [msec]\".format(1000 * (time_end_cpu - time_start_cpu)))"
      ],
      "execution_count": 15,
      "outputs": [
        {
          "output_type": "stream",
          "text": [
            "CPU calculation 0.08797645568847656 [msec]\n"
          ],
          "name": "stdout"
        }
      ]
    },
    {
      "cell_type": "code",
      "metadata": {
        "id": "Um5zJgmGj37x"
      },
      "source": [
        "# Measure GPU time\n",
        "import pycuda.driver"
      ],
      "execution_count": 16,
      "outputs": []
    },
    {
      "cell_type": "code",
      "metadata": {
        "id": "xI7zqXatj__0"
      },
      "source": [
        "time_start_gpu = pycuda.driver.Event()\n",
        "time_end_gpu = pycuda.driver.Event()"
      ],
      "execution_count": 17,
      "outputs": []
    },
    {
      "cell_type": "code",
      "metadata": {
        "id": "KF3tKAookJGW",
        "outputId": "b3982d9a-43af-48d8-bcd0-78f152687419",
        "colab": {
          "base_uri": "https://localhost:8080/"
        }
      },
      "source": [
        "time_start_gpu.record()\n",
        "plus_one_kernel(num_components, y_gpu, x_gpu, block=threads_per_block, grid=blocks_per_grid)\n",
        "time_end_gpu.record()\n",
        "time_end_gpu.synchronize()"
      ],
      "execution_count": 18,
      "outputs": [
        {
          "output_type": "execute_result",
          "data": {
            "text/plain": [
              "<pycuda._driver.Event at 0x7fe16bd0bce0>"
            ]
          },
          "metadata": {
            "tags": []
          },
          "execution_count": 18
        }
      ]
    },
    {
      "cell_type": "code",
      "metadata": {
        "id": "c-S-3SLxkXDX",
        "outputId": "bccb176c-d1f5-4eff-b40d-c72334b643a3",
        "colab": {
          "base_uri": "https://localhost:8080/"
        }
      },
      "source": [
        "print(\"GPU calculation {0} [msec]\".format(time_start_gpu.time_till(time_end_gpu)))"
      ],
      "execution_count": 19,
      "outputs": [
        {
          "output_type": "stream",
          "text": [
            "GPU calculation 0.1987839937210083 [msec]\n"
          ],
          "name": "stdout"
        }
      ]
    },
    {
      "cell_type": "code",
      "metadata": {
        "id": "noNtWZvVk9GS"
      },
      "source": [
        "num_components = numpy.int32(10000)\n",
        "x = numpy.arange(num_components, dtype=numpy.int32)"
      ],
      "execution_count": 20,
      "outputs": []
    },
    {
      "cell_type": "code",
      "metadata": {
        "id": "cwruu4ndlO4W"
      },
      "source": [
        "x_gpu = pycuda.gpuarray.to_gpu(x)\n",
        "y_gpu = pycuda.gpuarray.zeros(num_components, dtype=numpy.int32)"
      ],
      "execution_count": 21,
      "outputs": []
    },
    {
      "cell_type": "code",
      "metadata": {
        "id": "QizAVpoPlWRJ"
      },
      "source": [
        "threads_per_block = (256, 1, 1)\n",
        "blocks_per_grid = (math.ceil(num_components / threads_per_block[0]), 1, 1)"
      ],
      "execution_count": 22,
      "outputs": []
    },
    {
      "cell_type": "code",
      "metadata": {
        "id": "08t7wqFOlYzP"
      },
      "source": [
        "plus_one_kernel(num_components, y_gpu, x_gpu, block=threads_per_block, grid=blocks_per_grid)"
      ],
      "execution_count": 23,
      "outputs": []
    },
    {
      "cell_type": "code",
      "metadata": {
        "id": "d_bo8MtWlfx3"
      },
      "source": [
        "# Measure CPU time\n",
        "time_start_cpu = time.time()\n",
        "x = x + 1\n",
        "time_end_cpu = time.time()"
      ],
      "execution_count": 24,
      "outputs": []
    },
    {
      "cell_type": "code",
      "metadata": {
        "id": "fIBUY5-8lgLZ",
        "outputId": "36cd36c7-d2b8-4687-eae6-527287c29f6f",
        "colab": {
          "base_uri": "https://localhost:8080/"
        }
      },
      "source": [
        "print(\"CPU calculation {0} [msec]\".format(1000 * (time_end_cpu - time_start_cpu)))"
      ],
      "execution_count": 25,
      "outputs": [
        {
          "output_type": "stream",
          "text": [
            "CPU calculation 0.09751319885253906 [msec]\n"
          ],
          "name": "stdout"
        }
      ]
    },
    {
      "cell_type": "code",
      "metadata": {
        "id": "XrhnrX1mmBT5",
        "outputId": "369e9ae4-a2f3-49fc-9d0d-a3c4427c5bc9",
        "colab": {
          "base_uri": "https://localhost:8080/"
        }
      },
      "source": [
        "time_start_gpu.record()\n",
        "plus_one_kernel(num_components, y_gpu, x_gpu, block=threads_per_block, grid=blocks_per_grid)\n",
        "time_end_gpu.record()\n",
        "time_end_gpu.synchronize()"
      ],
      "execution_count": 26,
      "outputs": [
        {
          "output_type": "execute_result",
          "data": {
            "text/plain": [
              "<pycuda._driver.Event at 0x7fe16bd0bce0>"
            ]
          },
          "metadata": {
            "tags": []
          },
          "execution_count": 26
        }
      ]
    },
    {
      "cell_type": "code",
      "metadata": {
        "id": "UmPqnJqpmExd",
        "outputId": "b6f5e149-61c0-4498-c516-622523e7a685",
        "colab": {
          "base_uri": "https://localhost:8080/"
        }
      },
      "source": [
        "print(\"GPU calculation {0} [msec]\".format(time_start_gpu.time_till(time_end_gpu)))"
      ],
      "execution_count": 27,
      "outputs": [
        {
          "output_type": "stream",
          "text": [
            "GPU calculation 0.12636800110340118 [msec]\n"
          ],
          "name": "stdout"
        }
      ]
    },
    {
      "cell_type": "code",
      "metadata": {
        "id": "7x1U7OPsmQ1w"
      },
      "source": [
        "num_components = numpy.int32(10000000)\n",
        "x = numpy.arange(num_components, dtype=numpy.int32)"
      ],
      "execution_count": 28,
      "outputs": []
    },
    {
      "cell_type": "code",
      "metadata": {
        "id": "UiddFVd6mSmf"
      },
      "source": [
        "x_gpu = pycuda.gpuarray.to_gpu(x)\n",
        "y_gpu = pycuda.gpuarray.zeros(num_components, dtype=numpy.int32)"
      ],
      "execution_count": 29,
      "outputs": []
    },
    {
      "cell_type": "code",
      "metadata": {
        "id": "9bCwxyzDmYya"
      },
      "source": [
        "threads_per_block = (256, 1, 1)\n",
        "blocks_per_grid = (math.ceil(num_components / threads_per_block[0]), 1, 1)"
      ],
      "execution_count": 30,
      "outputs": []
    },
    {
      "cell_type": "code",
      "metadata": {
        "id": "RjJOKMqgmccx"
      },
      "source": [
        "plus_one_kernel(num_components, y_gpu, x_gpu, block=threads_per_block, grid=blocks_per_grid)"
      ],
      "execution_count": 31,
      "outputs": []
    },
    {
      "cell_type": "code",
      "metadata": {
        "id": "wkM6B5WBmkcc"
      },
      "source": [
        "# Measure CPU time\n",
        "time_start_cpu = time.time()\n",
        "x = x + 1\n",
        "time_end_cpu = time.time()"
      ],
      "execution_count": 32,
      "outputs": []
    },
    {
      "cell_type": "code",
      "metadata": {
        "id": "_H9-gnnMmkww",
        "outputId": "e3cc1537-9c5e-44be-d2e5-6865785aaa14",
        "colab": {
          "base_uri": "https://localhost:8080/"
        }
      },
      "source": [
        "print(\"CPU calculation {0} [msec]\".format(1000 * (time_end_cpu - time_start_cpu)))"
      ],
      "execution_count": 33,
      "outputs": [
        {
          "output_type": "stream",
          "text": [
            "CPU calculation 16.999006271362305 [msec]\n"
          ],
          "name": "stdout"
        }
      ]
    },
    {
      "cell_type": "code",
      "metadata": {
        "id": "qvGOTXsVmsQS",
        "outputId": "f3e65db0-ecfc-4129-81cb-f4a5e1e617c4",
        "colab": {
          "base_uri": "https://localhost:8080/"
        }
      },
      "source": [
        "time_start_gpu.record()\n",
        "plus_one_kernel(num_components, y_gpu, x_gpu, block=threads_per_block, grid=blocks_per_grid)\n",
        "time_end_gpu.record()\n",
        "time_end_gpu.synchronize()"
      ],
      "execution_count": 34,
      "outputs": [
        {
          "output_type": "execute_result",
          "data": {
            "text/plain": [
              "<pycuda._driver.Event at 0x7fe16bd0bce0>"
            ]
          },
          "metadata": {
            "tags": []
          },
          "execution_count": 34
        }
      ]
    },
    {
      "cell_type": "code",
      "metadata": {
        "id": "a3_J2D1_mw3H",
        "outputId": "a81acfc3-dd58-4fd2-d09a-58f3e66956ef",
        "colab": {
          "base_uri": "https://localhost:8080/"
        }
      },
      "source": [
        "print(\"GPU calculation {0} [msec]\".format(time_start_gpu.time_till(time_end_gpu)))"
      ],
      "execution_count": 35,
      "outputs": [
        {
          "output_type": "stream",
          "text": [
            "GPU calculation 0.49670401215553284 [msec]\n"
          ],
          "name": "stdout"
        }
      ]
    },
    {
      "cell_type": "code",
      "metadata": {
        "id": "ZPCA9XCcnQog"
      },
      "source": [
        ""
      ],
      "execution_count": null,
      "outputs": []
    },
    {
      "cell_type": "code",
      "metadata": {
        "id": "ZEau-XY8nRUp",
        "outputId": "81b751f5-af43-4f3c-b832-583243c57a3a",
        "colab": {
          "base_uri": "https://localhost:8080/"
        }
      },
      "source": [
        "time_start_gpu.record()\n",
        "# plus_one_kernel(num_components, y_gpu, x_gpu, block=threads_per_block, grid=blocks_per_grid)\n",
        "y_gpu.get()\n",
        "time_end_gpu.record()\n",
        "time_end_gpu.synchronize()\n"
      ],
      "execution_count": 36,
      "outputs": [
        {
          "output_type": "execute_result",
          "data": {
            "text/plain": [
              "<pycuda._driver.Event at 0x7fe16bd0bce0>"
            ]
          },
          "metadata": {
            "tags": []
          },
          "execution_count": 36
        }
      ]
    },
    {
      "cell_type": "code",
      "metadata": {
        "id": "_PwzWm9DnWy7",
        "outputId": "b532ab8e-838e-46ad-e820-3cf6b83e0ef3",
        "colab": {
          "base_uri": "https://localhost:8080/"
        }
      },
      "source": [
        "print(\"GPU calculation {0} [msec]\".format(time_start_gpu.time_till(time_end_gpu)))"
      ],
      "execution_count": 37,
      "outputs": [
        {
          "output_type": "stream",
          "text": [
            "GPU calculation 15.400383949279785 [msec]\n"
          ],
          "name": "stdout"
        }
      ]
    },
    {
      "cell_type": "code",
      "metadata": {
        "id": "brNNHfVinYqE"
      },
      "source": [
        ""
      ],
      "execution_count": null,
      "outputs": []
    }
  ]
}