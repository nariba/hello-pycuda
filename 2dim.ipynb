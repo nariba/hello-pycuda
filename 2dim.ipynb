{
  "nbformat": 4,
  "nbformat_minor": 0,
  "metadata": {
    "colab": {
      "name": "2dim.ipynb",
      "provenance": [],
      "collapsed_sections": [],
      "authorship_tag": "ABX9TyNXggW5ZUNJS1e88exppD0j",
      "include_colab_link": true
    },
    "kernelspec": {
      "name": "python3",
      "display_name": "Python 3"
    },
    "accelerator": "GPU"
  },
  "cells": [
    {
      "cell_type": "markdown",
      "metadata": {
        "id": "view-in-github",
        "colab_type": "text"
      },
      "source": [
        "<a href=\"https://colab.research.google.com/github/nariba/hello-pycuda/blob/main/2dim.ipynb\" target=\"_parent\"><img src=\"https://colab.research.google.com/assets/colab-badge.svg\" alt=\"Open In Colab\"/></a>"
      ]
    },
    {
      "cell_type": "code",
      "metadata": {
        "id": "9YgJSalbTwFO",
        "outputId": "effd85bd-6124-4d50-90ed-5a5901a2b7a9",
        "colab": {
          "base_uri": "https://localhost:8080/"
        }
      },
      "source": [
        "!pip3 install pycuda"
      ],
      "execution_count": 1,
      "outputs": [
        {
          "output_type": "stream",
          "text": [
            "Collecting pycuda\n",
            "\u001b[?25l  Downloading https://files.pythonhosted.org/packages/46/61/47d3235a4c13eec5a5f03594ddb268f4858734e02980afbcd806e6242fa5/pycuda-2020.1.tar.gz (1.6MB)\n",
            "\u001b[K     |████████████████████████████████| 1.6MB 13.0MB/s \n",
            "\u001b[?25hCollecting pytools>=2011.2\n",
            "\u001b[?25l  Downloading https://files.pythonhosted.org/packages/b7/30/c9362a282ef89106768cba9d884f4b2e4f5dc6881d0c19b478d2a710b82b/pytools-2020.4.3.tar.gz (62kB)\n",
            "\u001b[K     |████████████████████████████████| 71kB 10.4MB/s \n",
            "\u001b[?25hRequirement already satisfied: decorator>=3.2.0 in /usr/local/lib/python3.6/dist-packages (from pycuda) (4.4.2)\n",
            "Collecting appdirs>=1.4.0\n",
            "  Downloading https://files.pythonhosted.org/packages/3b/00/2344469e2084fb287c2e0b57b72910309874c3245463acd6cf5e3db69324/appdirs-1.4.4-py2.py3-none-any.whl\n",
            "Collecting mako\n",
            "\u001b[?25l  Downloading https://files.pythonhosted.org/packages/a6/37/0e706200d22172eb8fa17d68a7ae22dec7631a0a92266634fb518a88a5b2/Mako-1.1.3-py2.py3-none-any.whl (75kB)\n",
            "\u001b[K     |████████████████████████████████| 81kB 12.1MB/s \n",
            "\u001b[?25hRequirement already satisfied: six>=1.8.0 in /usr/local/lib/python3.6/dist-packages (from pytools>=2011.2->pycuda) (1.15.0)\n",
            "Requirement already satisfied: numpy>=1.6.0 in /usr/local/lib/python3.6/dist-packages (from pytools>=2011.2->pycuda) (1.18.5)\n",
            "Requirement already satisfied: dataclasses>=0.7 in /usr/local/lib/python3.6/dist-packages (from pytools>=2011.2->pycuda) (0.7)\n",
            "Requirement already satisfied: MarkupSafe>=0.9.2 in /usr/local/lib/python3.6/dist-packages (from mako->pycuda) (1.1.1)\n",
            "Building wheels for collected packages: pycuda, pytools\n",
            "  Building wheel for pycuda (setup.py) ... \u001b[?25l\u001b[?25hdone\n",
            "  Created wheel for pycuda: filename=pycuda-2020.1-cp36-cp36m-linux_x86_64.whl size=620887 sha256=1d51fae6d1a39ad50c7a78307ad4114af4ca901d7039a18e6017380f6b419a91\n",
            "  Stored in directory: /root/.cache/pip/wheels/8f/78/d1/5bb826f81d9d490297a348d818ff3ee6dd6f2075b06dde6ea0\n",
            "  Building wheel for pytools (setup.py) ... \u001b[?25l\u001b[?25hdone\n",
            "  Created wheel for pytools: filename=pytools-2020.4.3-py2.py3-none-any.whl size=61374 sha256=a3857f0a64beff5231dd3e149c31191a8fe750f0305fb52cc11b44c9ec64cf68\n",
            "  Stored in directory: /root/.cache/pip/wheels/af/c7/81/a22edb90b0b09a880468b2253bb1df8e9f503337ee15432c64\n",
            "Successfully built pycuda pytools\n",
            "Installing collected packages: appdirs, pytools, mako, pycuda\n",
            "Successfully installed appdirs-1.4.4 mako-1.1.3 pycuda-2020.1 pytools-2020.4.3\n"
          ],
          "name": "stdout"
        }
      ]
    },
    {
      "cell_type": "code",
      "metadata": {
        "id": "6wEF_VxbT9c-"
      },
      "source": [
        "import math\n",
        "import numpy\n",
        "import pycuda.gpuarray\n",
        "from pycuda.compiler import SourceModule\n",
        "import pycuda.autoinit"
      ],
      "execution_count": 2,
      "outputs": []
    },
    {
      "cell_type": "code",
      "metadata": {
        "id": "M3SlQlWw13R_"
      },
      "source": [
        "module = SourceModule(\"\"\"\n",
        "__global__ void add_two_array_2d(int nx, int ny, float *res, float *arr1, float *arr2){\n",
        "  int x = threadIdx.x + blockDim.x * blockIdx.x;\n",
        "  int y = threadIdx.y + blockDim.y * blockIdx.y;\n",
        "  int ij = nx * y + x;\n",
        "  if (x < nx && y < ny) {\n",
        "    res[ij] = arr1[ij] + arr2[ij];\n",
        "  }\n",
        "}\n",
        "\"\"\")"
      ],
      "execution_count": 3,
      "outputs": []
    },
    {
      "cell_type": "code",
      "metadata": {
        "id": "QkEnlN8I41t1"
      },
      "source": [
        "add_two_array = module.get_function(\"add_two_array_2d\")"
      ],
      "execution_count": 4,
      "outputs": []
    },
    {
      "cell_type": "code",
      "metadata": {
        "id": "cpX11gpP5AGR"
      },
      "source": [
        "num_x, num_y = numpy.int32(5), numpy.int32(2)\n",
        "num_components = num_x * num_y"
      ],
      "execution_count": 5,
      "outputs": []
    },
    {
      "cell_type": "code",
      "metadata": {
        "id": "migfDqZL5R6l"
      },
      "source": [
        "arr1 = numpy.arange(num_components, dtype=numpy.float32).reshape(num_y, num_x)"
      ],
      "execution_count": 6,
      "outputs": []
    },
    {
      "cell_type": "code",
      "metadata": {
        "id": "UR-y3ITP5k-F"
      },
      "source": [
        "numpy.random.seed(123)\n",
        "arr2 = 10 * numpy.random.rand(num_y, num_x)\n",
        "arr2 = arr2.astype(numpy.float32)"
      ],
      "execution_count": 7,
      "outputs": []
    },
    {
      "cell_type": "code",
      "metadata": {
        "id": "0m2Fk7HW5nUP"
      },
      "source": [
        "res = numpy.zeros([num_y, num_x], dtype=numpy.float32)"
      ],
      "execution_count": 8,
      "outputs": []
    },
    {
      "cell_type": "code",
      "metadata": {
        "id": "MW0-u9Ql5q8J"
      },
      "source": [
        "arr1_gpu = pycuda.gpuarray.to_gpu(arr1)\n",
        "arr2_gpu = pycuda.gpuarray.to_gpu(arr2)\n",
        "res_gpu = pycuda.gpuarray.to_gpu(res)"
      ],
      "execution_count": 9,
      "outputs": []
    },
    {
      "cell_type": "code",
      "metadata": {
        "id": "jIFH-c3d5w1g"
      },
      "source": [
        "threads_per_block = (16, 16, 1)\n",
        "block_x = math.ceil(num_x / threads_per_block[0])\n",
        "block_y = math.ceil(num_y / threads_per_block[1])\n",
        "blocks_per_grid = (block_x, block_y, 1)\n"
      ],
      "execution_count": 10,
      "outputs": []
    },
    {
      "cell_type": "code",
      "metadata": {
        "id": "087_jlzh6IIJ"
      },
      "source": [
        "add_two_array(num_x, num_y, res_gpu, arr1_gpu, arr2_gpu, block=threads_per_block, grid=blocks_per_grid)"
      ],
      "execution_count": 11,
      "outputs": []
    },
    {
      "cell_type": "code",
      "metadata": {
        "id": "MUyd2HeW6kvN",
        "outputId": "58855e76-8df2-4425-d5e5-b8fcef11c3a2",
        "colab": {
          "base_uri": "https://localhost:8080/"
        }
      },
      "source": [
        "res_gpu.get()"
      ],
      "execution_count": 12,
      "outputs": [
        {
          "output_type": "execute_result",
          "data": {
            "text/plain": [
              "array([[ 6.9646916,  3.8613935,  4.2685146,  8.513147 , 11.19469  ],\n",
              "       [ 9.231065 , 15.807642 , 13.848297 , 12.809319 , 12.921175 ]],\n",
              "      dtype=float32)"
            ]
          },
          "metadata": {
            "tags": []
          },
          "execution_count": 12
        }
      ]
    },
    {
      "cell_type": "code",
      "metadata": {
        "id": "pPO3qfC17G6M",
        "outputId": "143d0378-1fb9-4391-9303-bf0ed5c1240c",
        "colab": {
          "base_uri": "https://localhost:8080/"
        }
      },
      "source": [
        "arr1 + arr2"
      ],
      "execution_count": 13,
      "outputs": [
        {
          "output_type": "execute_result",
          "data": {
            "text/plain": [
              "array([[ 6.9646916,  3.8613935,  4.2685146,  8.513147 , 11.19469  ],\n",
              "       [ 9.231065 , 15.807642 , 13.848297 , 12.809319 , 12.921175 ]],\n",
              "      dtype=float32)"
            ]
          },
          "metadata": {
            "tags": []
          },
          "execution_count": 13
        }
      ]
    },
    {
      "cell_type": "code",
      "metadata": {
        "id": "eyuVwype7KDn"
      },
      "source": [
        ""
      ],
      "execution_count": null,
      "outputs": []
    }
  ]
}